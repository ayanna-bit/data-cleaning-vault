🧹 Missing Values Cleanup

🔍 Problem
This dataset contains missing values in several important columns like Age and Salary. Before analysis, we must handle them carefully.

🛠️ Approach
- Identify missing data
- Visualize missingness (if needed)
- Fill or drop nulls (depending on context)
- Justify cleaning choices

🐍 Code (Python/pandas)
python
import pandas as pd

df = pd.read_csv("dataset.csv")
df.info()
df.isnull().sum()

Drop rows with all nulls
df.dropna(how="all", inplace=True)

Fill missing Age with median
df["Age"].fillna(df["Age"].median(), inplace=True)

Fill missing Gender with "Unknown"
df["Gender"].fillna("Unknown", inplace=True)

 Drop rows with missing Salary
df = df[df["Salary"].notnull()]

df.to_csv("cleaned_output.csv", index=False)
